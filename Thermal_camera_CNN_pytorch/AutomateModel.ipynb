{
 "cells": [
  {
   "cell_type": "code",
   "execution_count": null,
   "metadata": {},
   "outputs": [
    {
     "name": "stdout",
     "output_type": "stream",
     "text": [
      "Requirement already satisfied: papermill in c:\\users\\noah lim ren dong\\anaconda3\\lib\\site-packages (2.3.3)\n",
      "Requirement already satisfied: requests in c:\\users\\noah lim ren dong\\anaconda3\\lib\\site-packages (from papermill) (2.24.0)\n",
      "Requirement already satisfied: ansiwrap in c:\\users\\noah lim ren dong\\anaconda3\\lib\\site-packages (from papermill) (0.8.4)\n",
      "Requirement already satisfied: entrypoints in c:\\users\\noah lim ren dong\\anaconda3\\lib\\site-packages (from papermill) (0.3)\n",
      "Requirement already satisfied: nbclient>=0.2.0 in c:\\users\\noah lim ren dong\\anaconda3\\lib\\site-packages (from papermill) (0.5.3)\n",
      "Requirement already satisfied: click in c:\\users\\noah lim ren dong\\anaconda3\\lib\\site-packages (from papermill) (7.1.2)\n",
      "Requirement already satisfied: tenacity in c:\\users\\noah lim ren dong\\anaconda3\\lib\\site-packages (from papermill) (8.0.1)\n",
      "Requirement already satisfied: tqdm>=4.32.2 in c:\\users\\noah lim ren dong\\anaconda3\\lib\\site-packages (from papermill) (4.47.0)\n",
      "Requirement already satisfied: black in c:\\users\\noah lim ren dong\\anaconda3\\lib\\site-packages (from papermill) (21.7b0)\n",
      "Requirement already satisfied: pyyaml in c:\\users\\noah lim ren dong\\anaconda3\\lib\\site-packages (from papermill) (5.3.1)\n",
      "Requirement already satisfied: nbformat>=5.1.2 in c:\\users\\noah lim ren dong\\anaconda3\\lib\\site-packages (from papermill) (5.1.3)\n",
      "Requirement already satisfied: idna<3,>=2.5 in c:\\users\\noah lim ren dong\\anaconda3\\lib\\site-packages (from requests->papermill) (2.10)\n",
      "Requirement already satisfied: urllib3!=1.25.0,!=1.25.1,<1.26,>=1.21.1 in c:\\users\\noah lim ren dong\\anaconda3\\lib\\site-packages (from requests->papermill) (1.25.9)\n",
      "Requirement already satisfied: certifi>=2017.4.17 in c:\\users\\noah lim ren dong\\anaconda3\\lib\\site-packages (from requests->papermill) (2020.6.20)\n",
      "Requirement already satisfied: chardet<4,>=3.0.2 in c:\\users\\noah lim ren dong\\anaconda3\\lib\\site-packages (from requests->papermill) (3.0.4)\n",
      "Requirement already satisfied: textwrap3>=0.9.2 in c:\\users\\noah lim ren dong\\anaconda3\\lib\\site-packages (from ansiwrap->papermill) (0.9.2)\n",
      "Requirement already satisfied: traitlets>=4.2 in c:\\users\\noah lim ren dong\\anaconda3\\lib\\site-packages (from nbclient>=0.2.0->papermill) (4.3.3)\n",
      "Requirement already satisfied: async-generator in c:\\users\\noah lim ren dong\\anaconda3\\lib\\site-packages (from nbclient>=0.2.0->papermill) (1.10)\n",
      "Requirement already satisfied: nest-asyncio in c:\\users\\noah lim ren dong\\anaconda3\\lib\\site-packages (from nbclient>=0.2.0->papermill) (1.5.1)\n",
      "Requirement already satisfied: jupyter-client>=6.1.5 in c:\\users\\noah lim ren dong\\anaconda3\\lib\\site-packages (from nbclient>=0.2.0->papermill) (6.1.6)\n",
      "Requirement already satisfied: pathspec<1,>=0.8.1 in c:\\users\\noah lim ren dong\\anaconda3\\lib\\site-packages (from black->papermill) (0.9.0)\n",
      "Requirement already satisfied: tomli<2.0.0,>=0.2.6 in c:\\users\\noah lim ren dong\\anaconda3\\lib\\site-packages (from black->papermill) (1.2.0)\n",
      "Requirement already satisfied: mypy-extensions>=0.4.3 in c:\\users\\noah lim ren dong\\anaconda3\\lib\\site-packages (from black->papermill) (0.4.3)\n",
      "Requirement already satisfied: appdirs in c:\\users\\noah lim ren dong\\anaconda3\\lib\\site-packages (from black->papermill) (1.4.4)\n",
      "Requirement already satisfied: regex>=2020.1.8 in c:\\users\\noah lim ren dong\\anaconda3\\lib\\site-packages (from black->papermill) (2020.6.8)\n",
      "Requirement already satisfied: jsonschema!=2.5.0,>=2.4 in c:\\users\\noah lim ren dong\\anaconda3\\lib\\site-packages (from nbformat>=5.1.2->papermill) (3.2.0)\n",
      "Requirement already satisfied: jupyter-core in c:\\users\\noah lim ren dong\\anaconda3\\lib\\site-packages (from nbformat>=5.1.2->papermill) (4.6.3)\n",
      "Requirement already satisfied: ipython-genutils in c:\\users\\noah lim ren dong\\anaconda3\\lib\\site-packages (from nbformat>=5.1.2->papermill) (0.2.0)\n",
      "Requirement already satisfied: decorator in c:\\users\\noah lim ren dong\\anaconda3\\lib\\site-packages (from traitlets>=4.2->nbclient>=0.2.0->papermill) (4.4.2)\n",
      "Requirement already satisfied: six in c:\\users\\noah lim ren dong\\anaconda3\\lib\\site-packages (from traitlets>=4.2->nbclient>=0.2.0->papermill) (1.15.0)\n",
      "Requirement already satisfied: pyzmq>=13 in c:\\users\\noah lim ren dong\\anaconda3\\lib\\site-packages (from jupyter-client>=6.1.5->nbclient>=0.2.0->papermill) (19.0.1)\n",
      "Requirement already satisfied: tornado>=4.1 in c:\\users\\noah lim ren dong\\anaconda3\\lib\\site-packages (from jupyter-client>=6.1.5->nbclient>=0.2.0->papermill) (6.0.4)\n",
      "Requirement already satisfied: python-dateutil>=2.1 in c:\\users\\noah lim ren dong\\anaconda3\\lib\\site-packages (from jupyter-client>=6.1.5->nbclient>=0.2.0->papermill) (2.8.1)\n",
      "Requirement already satisfied: attrs>=17.4.0 in c:\\users\\noah lim ren dong\\anaconda3\\lib\\site-packages (from jsonschema!=2.5.0,>=2.4->nbformat>=5.1.2->papermill) (19.3.0)\n",
      "Requirement already satisfied: setuptools in c:\\users\\noah lim ren dong\\anaconda3\\lib\\site-packages (from jsonschema!=2.5.0,>=2.4->nbformat>=5.1.2->papermill) (49.2.0.post20200714)\n",
      "Requirement already satisfied: pyrsistent>=0.14.0 in c:\\users\\noah lim ren dong\\anaconda3\\lib\\site-packages (from jsonschema!=2.5.0,>=2.4->nbformat>=5.1.2->papermill) (0.16.0)\n",
      "Requirement already satisfied: pywin32>=1.0; sys_platform == \"win32\" in c:\\users\\noah lim ren dong\\anaconda3\\lib\\site-packages (from jupyter-core->nbformat>=5.1.2->papermill) (227)\n"
     ]
    },
    {
     "data": {
      "application/vnd.jupyter.widget-view+json": {
       "model_id": "0371bf5899194ec8b7cbea546874468d",
       "version_major": 2,
       "version_minor": 0
      },
      "text/plain": [
       "HBox(children=(FloatProgress(value=0.0, description='Executing', max=20.0, style=ProgressStyle(description_wid…"
      ]
     },
     "metadata": {},
     "output_type": "display_data"
    },
    {
     "name": "stdout",
     "output_type": "stream",
     "text": [
      "\n"
     ]
    },
    {
     "data": {
      "application/vnd.jupyter.widget-view+json": {
       "model_id": "20d92ebf9074436f815fa69eaac731dc",
       "version_major": 2,
       "version_minor": 0
      },
      "text/plain": [
       "HBox(children=(FloatProgress(value=0.0, description='Executing', max=20.0, style=ProgressStyle(description_wid…"
      ]
     },
     "metadata": {},
     "output_type": "display_data"
    },
    {
     "name": "stdout",
     "output_type": "stream",
     "text": [
      "\n"
     ]
    },
    {
     "data": {
      "application/vnd.jupyter.widget-view+json": {
       "model_id": "46ef419b5610454aa8503a1fb1fdfbcc",
       "version_major": 2,
       "version_minor": 0
      },
      "text/plain": [
       "HBox(children=(FloatProgress(value=0.0, description='Executing', max=20.0, style=ProgressStyle(description_wid…"
      ]
     },
     "metadata": {},
     "output_type": "display_data"
    },
    {
     "name": "stdout",
     "output_type": "stream",
     "text": [
      "\n"
     ]
    },
    {
     "data": {
      "application/vnd.jupyter.widget-view+json": {
       "model_id": "8de2d66182e34af990d877116334a4e8",
       "version_major": 2,
       "version_minor": 0
      },
      "text/plain": [
       "HBox(children=(FloatProgress(value=0.0, description='Executing', max=20.0, style=ProgressStyle(description_wid…"
      ]
     },
     "metadata": {},
     "output_type": "display_data"
    },
    {
     "name": "stdout",
     "output_type": "stream",
     "text": [
      "\n"
     ]
    },
    {
     "data": {
      "application/vnd.jupyter.widget-view+json": {
       "model_id": "7928a87e025840b4829eb750ec64deaf",
       "version_major": 2,
       "version_minor": 0
      },
      "text/plain": [
       "HBox(children=(FloatProgress(value=0.0, description='Executing', max=20.0, style=ProgressStyle(description_wid…"
      ]
     },
     "metadata": {},
     "output_type": "display_data"
    },
    {
     "name": "stdout",
     "output_type": "stream",
     "text": [
      "\n"
     ]
    },
    {
     "data": {
      "application/vnd.jupyter.widget-view+json": {
       "model_id": "40c8ea61f66c42ddaa589c781933c693",
       "version_major": 2,
       "version_minor": 0
      },
      "text/plain": [
       "HBox(children=(FloatProgress(value=0.0, description='Executing', max=20.0, style=ProgressStyle(description_wid…"
      ]
     },
     "metadata": {},
     "output_type": "display_data"
    },
    {
     "name": "stdout",
     "output_type": "stream",
     "text": [
      "\n"
     ]
    },
    {
     "data": {
      "application/vnd.jupyter.widget-view+json": {
       "model_id": "6829d295cc2f409ba3929341af8f8a43",
       "version_major": 2,
       "version_minor": 0
      },
      "text/plain": [
       "HBox(children=(FloatProgress(value=0.0, description='Executing', max=20.0, style=ProgressStyle(description_wid…"
      ]
     },
     "metadata": {},
     "output_type": "display_data"
    },
    {
     "name": "stdout",
     "output_type": "stream",
     "text": [
      "\n"
     ]
    }
   ],
   "source": [
    "!pip install papermill\n",
    "import papermill as pm\n",
    "import time\n",
    "\n",
    "while True:\n",
    "    pm.execute_notebook(\n",
    "    'C:/Users/Noah Lim Ren Dong/Downloads/Pytorch_Tutorials-master/Pytorch_Tutorials-master/cnn_validation.ipynb',\n",
    "    'C:/Users/Noah Lim Ren Dong/Downloads/Pytorch_Tutorials-master/Pytorch_Tutorials-master/output.ipynb',\n",
    "    parameters = dict(alpha=0.6, ratio=0.1)    \n",
    "    )\n",
    "    time.sleep(300)\n",
    "    \n"
   ]
  },
  {
   "cell_type": "code",
   "execution_count": null,
   "metadata": {},
   "outputs": [],
   "source": []
  }
 ],
 "metadata": {
  "kernelspec": {
   "display_name": "Python 3",
   "language": "python",
   "name": "python3"
  },
  "language_info": {
   "codemirror_mode": {
    "name": "ipython",
    "version": 3
   },
   "file_extension": ".py",
   "mimetype": "text/x-python",
   "name": "python",
   "nbconvert_exporter": "python",
   "pygments_lexer": "ipython3",
   "version": "3.8.3"
  }
 },
 "nbformat": 4,
 "nbformat_minor": 4
}

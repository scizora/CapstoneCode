{
 "cells": [
  {
   "cell_type": "code",
   "execution_count": 37,
   "metadata": {
    "tags": [
     "parameters"
    ]
   },
   "outputs": [],
   "source": [
    "import torch\n",
    "import torch.nn as nn\n",
    "from torchvision.transforms import transforms\n",
    "import numpy as np\n",
    "from torch.autograd import Variable\n",
    "from torchvision.models import squeezenet1_1\n",
    "import torch.functional as F\n",
    "from io import open\n",
    "import os\n",
    "from PIL import Image\n",
    "import pathlib\n",
    "import glob\n",
    "\n"
   ]
  },
  {
   "cell_type": "code",
   "execution_count": 38,
   "metadata": {
    "tags": [
     "parameters"
    ]
   },
   "outputs": [],
   "source": [
    "train_path=\"C:/Users/YOUR_NAME/Desktop/Data/seg_train\"\n",
    "#pred_path=\"C:/Users/YOUR_NAME/Desktop/Data/seg_pred\""
   ]
  },
  {
   "cell_type": "code",
   "execution_count": 39,
   "metadata": {
    "tags": [
     "parameters"
    ]
   },
   "outputs": [],
   "source": [
    "\n",
    "root=pathlib.Path(train_path)\n",
    "classes=sorted([j.name.split('/')[-1] for j in root.iterdir()])"
   ]
  },
  {
   "cell_type": "code",
   "execution_count": 40,
   "metadata": {
    "tags": [
     "parameters"
    ]
   },
   "outputs": [],
   "source": [
    "class ConvNet(nn.Module):\n",
    "    def __init__(self,num_classes=6):\n",
    "        super(ConvNet,self).__init__()\n",
    "        \n",
    "       \n",
    "        self.conv1=nn.Conv2d(in_channels=3,out_channels=12,kernel_size=3,stride=1,padding=1)\n",
    "   \n",
    "        self.bn1=nn.BatchNorm2d(num_features=12)\n",
    " \n",
    "        self.relu1=nn.ReLU()\n",
    "    \n",
    "        \n",
    "        self.pool=nn.MaxPool2d(kernel_size=2)\n",
    "       \n",
    "        \n",
    "        self.conv2=nn.Conv2d(in_channels=12,out_channels=20,kernel_size=3,stride=1,padding=1)\n",
    "    \n",
    "        self.relu2=nn.ReLU()\n",
    "        \n",
    "        \n",
    "        \n",
    "        \n",
    "        self.conv3=nn.Conv2d(in_channels=20,out_channels=32,kernel_size=3,stride=1,padding=1)\n",
    "      \n",
    "        self.bn3=nn.BatchNorm2d(num_features=32)\n",
    "      \n",
    "        self.relu3=nn.ReLU()\n",
    "   \n",
    "        \n",
    "        \n",
    "        self.fc=nn.Linear(in_features=75 * 75 * 32,out_features=num_classes)\n",
    "        \n",
    "        \n",
    "       \n",
    "    def forward(self,input):\n",
    "        output=self.conv1(input)\n",
    "        output=self.bn1(output)\n",
    "        output=self.relu1(output)\n",
    "            \n",
    "        output=self.pool(output)\n",
    "            \n",
    "        output=self.conv2(output)\n",
    "        output=self.relu2(output)\n",
    "            \n",
    "        output=self.conv3(output)\n",
    "        output=self.bn3(output)\n",
    "        output=self.relu3(output)\n",
    "            \n",
    "            \n",
    "        output=output.view(-1,32*75*75)\n",
    "            \n",
    "            \n",
    "        output=self.fc(output)\n",
    "            \n",
    "        return output\n",
    "            \n",
    "        \n"
   ]
  },
  {
   "cell_type": "code",
   "execution_count": 41,
   "metadata": {
    "tags": [
     "parameters"
    ]
   },
   "outputs": [
    {
     "data": {
      "text/plain": [
       "ConvNet(\n",
       "  (conv1): Conv2d(3, 12, kernel_size=(3, 3), stride=(1, 1), padding=(1, 1))\n",
       "  (bn1): BatchNorm2d(12, eps=1e-05, momentum=0.1, affine=True, track_running_stats=True)\n",
       "  (relu1): ReLU()\n",
       "  (pool): MaxPool2d(kernel_size=2, stride=2, padding=0, dilation=1, ceil_mode=False)\n",
       "  (conv2): Conv2d(12, 20, kernel_size=(3, 3), stride=(1, 1), padding=(1, 1))\n",
       "  (relu2): ReLU()\n",
       "  (conv3): Conv2d(20, 32, kernel_size=(3, 3), stride=(1, 1), padding=(1, 1))\n",
       "  (bn3): BatchNorm2d(32, eps=1e-05, momentum=0.1, affine=True, track_running_stats=True)\n",
       "  (relu3): ReLU()\n",
       "  (fc): Linear(in_features=180000, out_features=3, bias=True)\n",
       ")"
      ]
     },
     "execution_count": 41,
     "metadata": {},
     "output_type": "execute_result"
    }
   ],
   "source": [
    "checkpoint=torch.load('topdown_Showcase_Latest_best_checkpoint_Emptyroom.model')\n",
    "model=ConvNet(num_classes=3)\n",
    "model.load_state_dict(checkpoint)\n",
    "model.eval()"
   ]
  },
  {
   "cell_type": "code",
   "execution_count": 42,
   "metadata": {
    "tags": [
     "parameters"
    ]
   },
   "outputs": [],
   "source": [
    "#Transforms\n",
    "transformer=transforms.Compose([\n",
    "    transforms.Resize((150,150)),\n",
    "    transforms.ToTensor(),  #0-255 to 0-1, numpy to tensors\n",
    "    transforms.Normalize([0.5,0.5,0.5], # 0-1 to [-1,1] , formula (x-mean)/std\n",
    "                        [0.5,0.5,0.5])\n",
    "])"
   ]
  },
  {
   "cell_type": "code",
   "execution_count": 43,
   "metadata": {
    "tags": [
     "parameters"
    ]
   },
   "outputs": [],
   "source": [
    "#prediction function\n",
    "def prediction(img_path,transformer):\n",
    "    \n",
    "    image=Image.open(img_path)\n",
    "    \n",
    "    image_tensor=transformer(image).float()\n",
    "    \n",
    "    \n",
    "    image_tensor=image_tensor.unsqueeze_(0)\n",
    "    \n",
    "    if torch.cuda.is_available():\n",
    "        image_tensor.cuda()\n",
    "        \n",
    "    input=Variable(image_tensor)\n",
    "    \n",
    "    \n",
    "    output=model(input)\n",
    "    \n",
    "    index=output.data.numpy().argmax()\n",
    "    \n",
    "    pred=classes[index]\n",
    "    print(pred)#So we nid to upload this pred as a dict to aws #\n",
    "    print(type(pred))\n",
    "    return pred\n",
    "    \n"
   ]
  },
  {
   "cell_type": "code",
   "execution_count": 44,
   "metadata": {
    "tags": [
     "parameters"
    ]
   },
   "outputs": [],
   "source": [
    "#images_path=glob.glob(pred_path+'/**/*.png')\n",
    "path= \"C:/Users/YOUR_NAME/Downloads/SparkFun_MLX90640_Arduino_Example-master (1)/SparkFun_MLX90640_Arduino_Example-master/Firmware/Example2_OutputToProcessing/MLXHeatCam\"\n",
    "images_path=glob.glob(path+'/**.png')"
   ]
  },
  {
   "cell_type": "code",
   "execution_count": 45,
   "metadata": {
    "tags": [
     "parameters"
    ]
   },
   "outputs": [
    {
     "data": {
      "text/plain": [
       "['C:/Users/YOUR_NAME/Downloads/SparkFun_MLX90640_Arduino_Example-master (1)/SparkFun_MLX90640_Arduino_Example-master/Firmware/Example2_OutputToProcessing/MLXHeatCam\\\\Camera2_thermalImage0.png']"
      ]
     },
     "execution_count": 45,
     "metadata": {},
     "output_type": "execute_result"
    }
   ],
   "source": [
    "images_path"
   ]
  },
  {
   "cell_type": "code",
   "execution_count": 46,
   "metadata": {
    "tags": [
     "parameters"
    ]
   },
   "outputs": [
    {
     "name": "stdout",
     "output_type": "stream",
     "text": [
      "Normal\n",
      "<class 'str'>\n"
     ]
    }
   ],
   "source": [
    "pred_dict={}\n",
    "\n",
    "for i in images_path:\n",
    "    pred_dict[i[i.rfind('/')+1:]]=prediction(i,transformer)\n",
    "\n"
   ]
  },
  {
   "cell_type": "code",
   "execution_count": 47,
   "metadata": {
    "tags": [
     "parameters"
    ]
   },
   "outputs": [],
   "source": [
    "import json\n",
    "\n",
    "jsonString = json.dumps(pred_dict)\n",
    "jsonFile = open(\"data.json\", \"w\")\n",
    "jsonFile.write(jsonString)\n",
    "jsonFile.close()"
   ]
  },
  {
   "cell_type": "code",
   "execution_count": 48,
   "metadata": {},
   "outputs": [],
   "source": [
    "#import boto3\n",
    "#from botocore.exceptions import NoCredentialsError\n",
    "\n",
    "#ACCESS_KEY = 'XXXXXXXXXXXXXXXXXXXXXXX'\n",
    "#SECRET_KEY = 'XXXXXXXXXXXXXXXXXXXXXXXXXXXXXXXXXXXXXXXXXXXX'\n",
    "\n",
    "\n",
    "#def upload_to_aws(local_file, bucket, s3_file):\n",
    "#    s3 = boto3.client('s3', aws_access_key_id=ACCESS_KEY,\n",
    "#                      aws_secret_access_key=SECRET_KEY)\n",
    "\n",
    "#    try:\n",
    "#        s3.upload_file(local_file, bucket, s3_file)\n",
    "#        print(\"Upload Successful\")\n",
    "#        return True\n",
    "#    except FileNotFoundError:\n",
    "#        print(\"The file was not found\")\n",
    "#        return False\n",
    "#    except NoCredentialsError:\n",
    "#        print(\"Credentials not available\")\n",
    "#        return False\n",
    "\n",
    "\n",
    "#uploaded = upload_to_aws('local_file', 'bucket_name', 's3_file_name')"
   ]
  },
  {
   "cell_type": "code",
   "execution_count": 49,
   "metadata": {
    "tags": [
     "parameters"
    ]
   },
   "outputs": [
    {
     "name": "stdout",
     "output_type": "stream",
     "text": [
      "now = 2021-08-04 12:47:29.607416\n",
      "date and time = 04-08-2021 12:47:29\n",
      "04-08-2021 12:47:29.json\n"
     ]
    }
   ],
   "source": [
    "from datetime import datetime\n",
    "\n",
    "# datetime object containing current date and time\n",
    "now = datetime.now()\n",
    "\n",
    "print(\"now =\", now)\n",
    "\n",
    "# dd/mm/YY H:M:S\n",
    "dt_string = now.strftime(\"%d-%m-%Y %H:%M:%S\")\n",
    "new_upload = dt_string + \".json\"\n",
    "print(\"date and time =\", dt_string)\t\n",
    "print(new_upload)"
   ]
  },
  {
   "cell_type": "code",
   "execution_count": 50,
   "metadata": {
    "tags": [
     "parameters"
    ]
   },
   "outputs": [
    {
     "data": {
      "text/plain": [
       "{'ResponseMetadata': {'RequestId': 'JJ5WEPKHKCN3E5EG',\n",
       "  'HostId': 'Ut1SidU38UkMLvBiWt/RZpoLMUxQV0u9PiM39Cbsz7JCYavMAKChMMW8lstL+etaxCbNYERm6jo=',\n",
       "  'HTTPStatusCode': 200,\n",
       "  'HTTPHeaders': {'x-amz-id-2': 'Ut1SidU38UkMLvBiWt/RZpoLMUxQV0u9PiM39Cbsz7JCYavMAKChMMW8lstL+etaxCbNYERm6jo=',\n",
       "   'x-amz-request-id': 'JJ5WEPKHKCN3E5EG',\n",
       "   'date': 'Wed, 04 Aug 2021 04:47:31 GMT',\n",
       "   'x-amz-server-side-encryption': 'AES256',\n",
       "   'etag': '\"56c5727eae8e34fdadeec9f253b63899\"',\n",
       "   'server': 'AmazonS3',\n",
       "   'content-length': '0'},\n",
       "  'RetryAttempts': 0},\n",
       " 'ETag': '\"56c5727eae8e34fdadeec9f253b63899\"',\n",
       " 'ServerSideEncryption': 'AES256'}"
      ]
     },
     "execution_count": 50,
     "metadata": {},
     "output_type": "execute_result"
    }
   ],
   "source": [
    "import json\n",
    "import boto3\n",
    "from botocore.exceptions import NoCredentialsError\n",
    "\n",
    "\n",
    "\n",
    "ACCESS_KEY = 'YOUR AWS ACCESS KEY'\n",
    "SECRET_KEY = 'YOUR AWS SECRET KEY'\n",
    "\n",
    "s3 = boto3.client('s3',)\n",
    "json_object = pred_dict\n",
    "s3.put_object(\n",
    "     Body=json.dumps(json_object),\n",
    "     Bucket='amplify-caregiverapp-dev-141923-deployment',\n",
    "     Key= new_upload\n",
    ")\n"
   ]
  },
  {
   "cell_type": "code",
   "execution_count": 51,
   "metadata": {},
   "outputs": [],
   "source": [
    "#DELETE FILE FROM S3 BECAUSE IT ALWAYS UPLOADS A NEW FILENAME BASED ON CURRENT TIME\n",
    "\n",
    "#from boto.s3.connection import S3Connection, Bucket, Key\n",
    "\n",
    "#conn = S3Connection(ACCESS_KEY, SECRET_KEY)\n",
    "\n",
    "#b = Bucket(conn, 'amplify-caregiverapp-dev-141923-deployment')\n",
    "#k = Key(b)\n",
    "\n",
    "#k.key = new_upload\n",
    "\n",
    "#b.delete_key(k)\n",
    "\n"
   ]
  },
  {
   "cell_type": "code",
   "execution_count": 52,
   "metadata": {
    "scrolled": true,
    "tags": [
     "parameters"
    ]
   },
   "outputs": [
    {
     "data": {
      "text/plain": [
       "{'MLXHeatCam\\\\Camera2_thermalImage0.png': 'Normal'}"
      ]
     },
     "execution_count": 52,
     "metadata": {},
     "output_type": "execute_result"
    }
   ],
   "source": [
    "pred_dict"
   ]
  },
  {
   "cell_type": "code",
   "execution_count": null,
   "metadata": {},
   "outputs": [],
   "source": []
  },
  {
   "cell_type": "code",
   "execution_count": null,
   "metadata": {},
   "outputs": [],
   "source": []
  },
  {
   "cell_type": "code",
   "execution_count": null,
   "metadata": {},
   "outputs": [],
   "source": []
  }
 ],
 "metadata": {
  "celltoolbar": "Tags",
  "kernelspec": {
   "display_name": "Python 3",
   "language": "python",
   "name": "python3"
  },
  "language_info": {
   "codemirror_mode": {
    "name": "ipython",
    "version": 3
   },
   "file_extension": ".py",
   "mimetype": "text/x-python",
   "name": "python",
   "nbconvert_exporter": "python",
   "pygments_lexer": "ipython3",
   "version": "3.8.3"
  }
 },
 "nbformat": 4,
 "nbformat_minor": 2
}
